{
 "cells": [
  {
   "cell_type": "markdown",
   "id": "approved-psychology",
   "metadata": {
    "id": "approved-psychology"
   },
   "source": [
    "# Home Assignment No. 2 - part one\n",
    "\n",
    "To solve this task, you will write a lot of code to try several machine learning methods for classification and regression.\n",
    "* You are **HIGHLY RECOMMENDED** to read relevant documentation, e.g. for [python](https://docs.python.org/3/), [numpy](https://docs.scipy.org/doc/numpy/reference/), [matlpotlib](https://matplotlib.org/) and [sklearn](https://scikit-learn.org/stable/). Also remember that seminars, lecture slides, [Google](http://google.com) and [StackOverflow](https://stackoverflow.com/) are your close friends during this course (and, probably, whole life?).\n",
    "\n",
    "* If you want an easy life, you have to use **BUILT-IN METHODS** of `sklearn` library instead of writing tons of your own code. There exists a class/method for almost everything you can imagine (related to this homework).\n",
    "\n",
    "* You have to write **CODE** directly inside specified places marked by comments: **BEGIN/END Solution**. Do not create new cells.\n",
    "\n",
    "* In some problems you are asked to provide a short discussion of the results. For that find the specific place marked via **Your text answer: \\<write your answer\\>**.\n",
    "\n",
    "* For every separate problem or subproblem (if specified) you can get only 0 points or maximal points for this problem. There are **NO INTERMEDIATE scores**. So make sure that you did everything required in the task.\n",
    "\n",
    "* Your **SOLUTION** notebook **MUST BE REPRODUCIBLE**, i.e., if the reviewer decides to restart the notebook and run all cells, after all the computation he will obtain exactly the same solution (with all the corresponding plots) as in your uploaded notebook. For this purpose, we suggest fixing random `seed` or (better) define `random_state=` inside every algorithm that uses some pseudorandomness.\n",
    "\n",
    "* Your code must be clear to the reviewer. For this purpose, try to include necessary comments inside the code. But remember: **GOOD CODE MUST BE SELF-EXPLANATORY** without any additional comments.\n",
    "\n",
    "* Many `sklearn` algorithms support multithreading (Ensemble Methods, Cross-Validation, etc.). Check if the particular algorithm has `n_jobs` parameters and set it to `-1` to use all the cores.\n"
   ]
  },
  {
   "cell_type": "code",
   "execution_count": 3,
   "id": "cooperative-spokesman",
   "metadata": {
    "id": "cooperative-spokesman"
   },
   "outputs": [],
   "source": [
    "import numpy as np\n",
    "import sklearn\n",
    "from sklearn.model_selection import train_test_split\n",
    "import pandas as pd\n",
    "import matplotlib.pyplot as plt\n",
    "from sklearn.model_selection import cross_val_score\n",
    "%matplotlib inline"
   ]
  },
  {
   "cell_type": "code",
   "execution_count": 4,
   "id": "noted-bridal",
   "metadata": {
    "id": "noted-bridal"
   },
   "outputs": [],
   "source": [
    "import warnings\n",
    "warnings.filterwarnings(\"ignore\")"
   ]
  },
  {
   "cell_type": "markdown",
   "id": "guilty-contamination",
   "metadata": {
    "id": "guilty-contamination"
   },
   "source": [
    "## Task 1. Model and feature selection problem (3 points)\n",
    "\n",
    "Your goal in this task is to predict the price (```price_doc```) given some characteristics of a house. In order to do that, you will demonstrate your abilities in data preprocessing, finding feature importances, applying different ML models."
   ]
  },
  {
   "cell_type": "markdown",
   "id": "friendly-review",
   "metadata": {
    "id": "friendly-review"
   },
   "source": [
    "### Subproblem 1.1. Data preprocessing and feauture importances (1 point)\n",
    "\n",
    "The goal of this subproblem is to prepare the data for further usage. Complete all of the following subtasks:"
   ]
  },
  {
   "cell_type": "markdown",
   "id": "rational-reggae",
   "metadata": {
    "id": "rational-reggae"
   },
   "source": [
    "**1.1.1) load the dataset**"
   ]
  },
  {
   "cell_type": "code",
   "execution_count": 3,
   "id": "nutritional-phoenix",
   "metadata": {
    "id": "nutritional-phoenix"
   },
   "outputs": [],
   "source": [
    "### BEGIN Solution (do not delete this comment)\n",
    "\n",
    "data_frame = pd.read_csv('data_fs.csv')\n",
    "\n",
    "### END Solution (do not delete this comment)"
   ]
  },
  {
   "cell_type": "markdown",
   "id": "objective-working",
   "metadata": {
    "id": "objective-working"
   },
   "source": [
    "**1.1.2) preprocess the dataset by dropping the ```timestamp``` feature, filling ```NaN```s with 0, converting the categorical variables into dummy variables**"
   ]
  },
  {
   "cell_type": "code",
   "execution_count": 4,
   "id": "another-keyboard",
   "metadata": {
    "id": "another-keyboard"
   },
   "outputs": [],
   "source": [
    "### BEGIN Solution (do not delete this comment)\n",
    "\n",
    "data_frame.fillna(0, inplace=True)\n",
    "data_frame.drop('timestamp', axis=1, inplace=True)\n",
    "\n",
    "# get categorical features\n",
    "cat_features = []\n",
    "for col in list(data_frame):\n",
    "    if data_frame[col].dtype == object:\n",
    "        cat_features.append(col)\n",
    "        \n",
    "data_frame = pd.get_dummies(data_frame, columns=cat_features)\n",
    "\n",
    "### END Solution (do not delete this comment)"
   ]
  },
  {
   "cell_type": "markdown",
   "id": "dress-shanghai",
   "metadata": {
    "id": "dress-shanghai"
   },
   "source": [
    "**1.1.3) define ```x_train```, ```x_test```, ```y_train```, ```y_test```. The train-test split should be 70:30**\n"
   ]
  },
  {
   "cell_type": "code",
   "execution_count": 5,
   "id": "outdoor-runner",
   "metadata": {
    "id": "outdoor-runner"
   },
   "outputs": [],
   "source": [
    "### BEGIN Solution (do not delete this comment)\n",
    "\n",
    "y = data_frame['price_doc']\n",
    "X = data_frame.drop('price_doc', axis=1)\n",
    "\n",
    "X_train, X_test, y_train, y_test = train_test_split(X, y, test_size=0.3, random_state=0)\n",
    "\n",
    "### END Solution (do not delete this comment)"
   ]
  },
  {
   "cell_type": "markdown",
   "id": "engaging-ready",
   "metadata": {
    "id": "engaging-ready"
   },
   "source": [
    "\n",
    "**1.1.4) plot the histogram of y values. Note that the mean of these values is very high and the distribution of the values is far from normal. Create ```y_train_log``` and ```y_test_log``` by applying $log_{y}$. Now plot the new histogram of the obtained values. You should use these log values for the next subtasks.**   "
   ]
  },
  {
   "cell_type": "code",
   "execution_count": 6,
   "id": "inclusive-outreach",
   "metadata": {
    "colab": {
     "base_uri": "https://localhost:8080/",
     "height": 575
    },
    "id": "inclusive-outreach",
    "outputId": "6a70e6b1-b183-470a-a694-52e230c3da6b"
   },
   "outputs": [
    {
     "data": {
      "image/png": "[encoded data removed]",
      "text/plain": [
       "<Figure size 720x504 with 1 Axes>"
      ]
     },
     "metadata": {
      "needs_background": "light"
     },
     "output_type": "display_data"
    },
    {
     "data": {
      "image/png": "[encoded data removed]",
      "text/plain": [
       "<Figure size 720x504 with 1 Axes>"
      ]
     },
     "metadata": {
      "needs_background": "light"
     },
     "output_type": "display_data"
    }
   ],
   "source": [
    "### BEGIN Solution (do not delete this comment)\n",
    "\n",
    "y_train_log = np.log(y_train)\n",
    "y_test_log = np.log(y_test)\n",
    "\n",
    "\n",
    "plt.figure(figsize=(10, 7))\n",
    "plt.hist(y_train, bins=100)\n",
    "plt.title('y')\n",
    "\n",
    "plt.figure(figsize=(10, 7))\n",
    "plt.hist(y_train_log, bins=100, label='y_train_log')\n",
    "plt.hist(y_test_log, bins=100, label='y_test_log')\n",
    "plt.legend()\n",
    "plt.title('log(y)')\n",
    "\n",
    "plt.show()\n",
    "\n",
    "### END Solution (do not delete this comment)"
   ]
  },
  {
   "cell_type": "markdown",
   "id": "noticed-drunk",
   "metadata": {
    "id": "noticed-drunk"
   },
   "source": [
    "**1.1.5) print the number of features in the created ```x_train``` and ```x_test``` datasets. Answer the question: do you think all of these features are relevant for the adequate price prediction?**\n"
   ]
  },
  {
   "cell_type": "code",
   "execution_count": 7,
   "id": "strategic-spending",
   "metadata": {
    "colab": {
     "base_uri": "https://localhost:8080/"
    },
    "id": "strategic-spending",
    "outputId": "60227791-3f62-4d31-cbcd-a5a8aada6763"
   },
   "outputs": [
    {
     "name": "stdout",
     "output_type": "stream",
     "text": [
      "The number of features = 560\n"
     ]
    }
   ],
   "source": [
    "### BEGIN Solution (do not delete this comment)\n",
    "\n",
    "print(f'The number of features = {len(X_train.columns)}')\n",
    "\n",
    "### END Solution (do not delete this comment)"
   ]
  },
  {
   "cell_type": "markdown",
   "id": "restricted-anchor",
   "metadata": {
    "id": "restricted-anchor"
   },
   "source": [
    "**Your text answer (do not delete this comment)**:\n",
    "\n",
    "The answer is of course not. It's obviously that some of features is not so important for us to predict the price. Moreover the problem of correlation is also exists. I found that about ~9k out of 150k elements (without repeating) of correlation matrix has correlation more than 0.5. For example, there is a high dependence between `max_floor` and `build_year`. So, these feature may almost have no impact on model prediction. Furthermore, a lot of features can make our model overfit in case of simple model, like logreg.\n",
    "\n",
    "The code with which I checked correlations:\n",
    "```\n",
    "corr_matrix = X_train.corr() > 0.5\n",
    "\n",
    "n_corr = 0\n",
    "for col in list(corr_matrix):\n",
    "    n_corr += corr_matrix[col].sum()\n",
    "n_high_corr = (n_corr - len(corr_matrix)) // 2\n",
    "```"
   ]
  },
  {
   "cell_type": "markdown",
   "id": "endangered-mineral",
   "metadata": {
    "id": "endangered-mineral"
   },
   "source": [
    "**1.1.6) use random forest to find the importance of the features. Plot the histogram of the importances.**"
   ]
  },
  {
   "cell_type": "code",
   "execution_count": 16,
   "id": "1575eb5c",
   "metadata": {},
   "outputs": [],
   "source": [
    "from sklearn.ensemble import RandomForestRegressor"
   ]
  },
  {
   "cell_type": "code",
   "execution_count": 17,
   "id": "residential-tongue",
   "metadata": {
    "colab": {
     "base_uri": "https://localhost:8080/",
     "height": 282
    },
    "id": "residential-tongue",
    "outputId": "3ed70854-fddc-439f-eef5-542e3de192e2"
   },
   "outputs": [
    {
     "data": {
      "text/plain": [
       "RandomForestRegressor(random_state=0)"
      ]
     },
     "execution_count": 17,
     "metadata": {},
     "output_type": "execute_result"
    }
   ],
   "source": [
    "### BEGIN Solution (do not delete this comment)\n",
    "\n",
    "rf = RandomForestRegressor(random_state=0)\n",
    "rf.fit(X_train, y_train_log)\n",
    "\n",
    "### END Solution (do not delete this comment)"
   ]
  },
  {
   "cell_type": "code",
   "execution_count": 18,
   "id": "cfc1c307",
   "metadata": {},
   "outputs": [
    {
     "data": {
      "image/png": "[encoded data removed]",
      "text/plain": [
       "<Figure size 720x504 with 1 Axes>"
      ]
     },
     "metadata": {
      "needs_background": "light"
     },
     "output_type": "display_data"
    }
   ],
   "source": [
    "plt.figure(figsize=(10,7))\n",
    "\n",
    "plt.hist(rf.feature_importances_, bins=100)\n",
    "plt.title('Random Forest feature importances')\n",
    "plt.show()"
   ]
  },
  {
   "cell_type": "markdown",
   "id": "ethical-firmware",
   "metadata": {
    "id": "ethical-firmware"
   },
   "source": [
    "**1.1.7) print the names of the 20 most important features**"
   ]
  },
  {
   "cell_type": "code",
   "execution_count": 19,
   "id": "amazing-marriage",
   "metadata": {
    "colab": {
     "base_uri": "https://localhost:8080/"
    },
    "id": "amazing-marriage",
    "outputId": "53ab5987-aa41-43f6-816e-37580d1cff79"
   },
   "outputs": [
    {
     "data": {
      "text/plain": [
       "['full_sq',\n",
       " 'num_room',\n",
       " 'cafe_count_2000',\n",
       " 'sport_count_3000',\n",
       " 'cafe_count_3000',\n",
       " 'cafe_count_5000_price_2500',\n",
       " 'cafe_count_5000',\n",
       " 'nuclear_reactor_km',\n",
       " 'metro_min_avto',\n",
       " 'micex_cbi_tr',\n",
       " 'ttk_km',\n",
       " 'metro_km_avto',\n",
       " 'floor',\n",
       " 'kindergarten_km',\n",
       " 'cafe_count_5000_price_high',\n",
       " 'micex',\n",
       " 'cemetery_km',\n",
       " 'public_healthcare_km',\n",
       " 'additional_education_km',\n",
       " 'brent']"
      ]
     },
     "execution_count": 19,
     "metadata": {},
     "output_type": "execute_result"
    }
   ],
   "source": [
    "### BEGIN Solution (do not delete this comment)\n",
    "\n",
    "fi = pd.Series(rf.feature_importances_, index=X_train.columns)\n",
    "fi_top20 = list(fi.sort_values(ascending=False)[:20].index)\n",
    "fi_top20\n",
    "\n",
    "### END Solution (do not delete this comment)"
   ]
  },
  {
   "cell_type": "markdown",
   "id": "threaded-ivory",
   "metadata": {
    "id": "threaded-ivory"
   },
   "source": [
    "<br>"
   ]
  },
  {
   "cell_type": "markdown",
   "id": "little-toddler",
   "metadata": {
    "id": "little-toddler"
   },
   "source": [
    "### Subproblem 1.2. Training models on the most important features (1 point)"
   ]
  },
  {
   "cell_type": "markdown",
   "id": "vietnamese-patrick",
   "metadata": {
    "id": "vietnamese-patrick"
   },
   "source": [
    "In this subproblem, you will train several ML models on the found 20 most important features: train **Linear Regression**,  **Ridge regression**, **Random forest**,  **DecisionTree** and evaluate their performance using the Root Mean Squared Logarithmic Error (RMSLE) on both train/test sets. \n",
    "\n",
    "You will have to repeat the same actions in the next tasks too, so we recommend to implement\n",
    "a dedicated function for comparisons, which\n",
    "1. on input takes a training dataset `(X_train, y_train)` and a test sample `(X_test, y_test)`;\n",
    "2. it trains **all of the listed models** on the `(X_train, y_train)` sample;\n",
    "3. it computes and returns a table with the RMSLE score of each fitted model on the train and test datasets."
   ]
  },
  {
   "cell_type": "markdown",
   "id": "stupid-principle",
   "metadata": {
    "id": "stupid-principle"
   },
   "source": [
    "**1.2.1) Implement the function described above**"
   ]
  },
  {
   "cell_type": "code",
   "execution_count": 5,
   "id": "paperback-uniform",
   "metadata": {
    "id": "paperback-uniform"
   },
   "outputs": [],
   "source": [
    "### BEGIN Solution (do not delete this comment)\n",
    "from sklearn.model_selection import cross_val_score\n",
    "from sklearn.metrics import mean_squared_log_error\n",
    "from sklearn.linear_model import LinearRegression\n",
    "from sklearn.linear_model import Ridge\n",
    "from sklearn.ensemble import RandomForestRegressor\n",
    "from sklearn.tree import DecisionTreeRegressor\n",
    "\n",
    "\n",
    "def make_comparison(X_train, y_train, X_test, y_test, models: list):\n",
    "    \n",
    "    results = []\n",
    "    for model in models:\n",
    "        model.fit(X_train, y_train)\n",
    "        \n",
    "        y_pred_train = model.predict(X_train)\n",
    "        y_pred_test = model.predict(X_test)\n",
    "        \n",
    "        train_error = mean_squared_log_error(y_train, y_pred_train, squared=False)\n",
    "        test_error = mean_squared_log_error(y_test, y_pred_test, squared=False)\n",
    "        model_name = type(model).__name__\n",
    "        \n",
    "        results.append([model_name, train_error, test_error])\n",
    "        \n",
    "    return pd.DataFrame(results, columns=['model_name', 'train_error', 'test_error'])\n",
    "\n",
    "### END Solution (do not delete this comment)"
   ]
  },
  {
   "cell_type": "markdown",
   "id": "demographic-honolulu",
   "metadata": {
    "id": "demographic-honolulu"
   },
   "source": [
    "**1.2.2) Apply the implemented function to our dataset (use only the 20 most important features)**"
   ]
  },
  {
   "cell_type": "code",
   "execution_count": 90,
   "id": "loved-bedroom",
   "metadata": {
    "colab": {
     "base_uri": "https://localhost:8080/",
     "height": 221
    },
    "id": "loved-bedroom",
    "outputId": "c8bb94f8-18f2-4395-ec9c-79178786015c"
   },
   "outputs": [
    {
     "data": {
      "text/html": [
       "<div>\n",
       "<style scoped>\n",
       "    .dataframe tbody tr th:only-of-type {\n",
       "        vertical-align: middle;\n",
       "    }\n",
       "\n",
       "    .dataframe tbody tr th {\n",
       "        vertical-align: top;\n",
       "    }\n",
       "\n",
       "    .dataframe thead th {\n",
       "        text-align: right;\n",
       "    }\n",
       "</style>\n",
       "<table border=\"1\" class=\"dataframe\">\n",
       "  <thead>\n",
       "    <tr style=\"text-align: right;\">\n",
       "      <th></th>\n",
       "      <th>model_name</th>\n",
       "      <th>train_error</th>\n",
       "      <th>test_error</th>\n",
       "    </tr>\n",
       "  </thead>\n",
       "  <tbody>\n",
       "    <tr>\n",
       "      <th>0</th>\n",
       "      <td>LinearRegression</td>\n",
       "      <td>0.032349</td>\n",
       "      <td>0.032171</td>\n",
       "    </tr>\n",
       "    <tr>\n",
       "      <th>1</th>\n",
       "      <td>Ridge</td>\n",
       "      <td>0.032349</td>\n",
       "      <td>0.032171</td>\n",
       "    </tr>\n",
       "    <tr>\n",
       "      <th>2</th>\n",
       "      <td>RandomForestRegressor</td>\n",
       "      <td>0.011275</td>\n",
       "      <td>0.029273</td>\n",
       "    </tr>\n",
       "    <tr>\n",
       "      <th>3</th>\n",
       "      <td>DecisionTreeRegressor</td>\n",
       "      <td>0.000025</td>\n",
       "      <td>0.040856</td>\n",
       "    </tr>\n",
       "  </tbody>\n",
       "</table>\n",
       "</div>"
      ],
      "text/plain": [
       "              model_name  train_error  test_error\n",
       "0       LinearRegression     0.032349    0.032171\n",
       "1                  Ridge     0.032349    0.032171\n",
       "2  RandomForestRegressor     0.011275    0.029273\n",
       "3  DecisionTreeRegressor     0.000025    0.040856"
      ]
     },
     "execution_count": 90,
     "metadata": {},
     "output_type": "execute_result"
    }
   ],
   "source": [
    "### BEGIN Solution\n",
    "\n",
    "lin_reg = LinearRegression()\n",
    "ridge_reg = Ridge(random_state=0)\n",
    "rand_forest = RandomForestRegressor(random_state=0)\n",
    "dcsn_tree = DecisionTreeRegressor(random_state=0)\n",
    "\n",
    "models = [lin_reg, ridge_reg, rand_forest, dcsn_tree]\n",
    "X_train, X_test, y_train, y_test = train_test_split(X[fi_top20], y, test_size=0.3, random_state=0)\n",
    "\n",
    "# print comparison table\n",
    "results = make_comparison(X_train, y_train_log, X_test, y_test_log, models)\n",
    "results\n",
    "\n",
    "### END Solution"
   ]
  },
  {
   "cell_type": "markdown",
   "id": "6lSOGA4-7RSx",
   "metadata": {
    "id": "6lSOGA4-7RSx"
   },
   "source": [
    "<br>"
   ]
  },
  {
   "cell_type": "markdown",
   "id": "stock-jewel",
   "metadata": {
    "id": "stock-jewel"
   },
   "source": [
    "### Subproblem 1.3. Forward-backward methods (1 point)\n",
    "In the subproblems above, we have relied on the feature importances found by the random forest method. The main goal of this subproblem is to find feature importances by applying the forward-backward methods: the main idea is to add or remove features and compute how this removal influences the value of the loss function or some other criteria.\n",
    "\n",
    "The decision about adding or deleting a feature may be made based on:\n",
    "\n",
    "- AIC\n",
    "- BIC\n",
    "- validation error\n",
    "- Mallows $C_p$\n",
    "- sklearn's `estimator.score()`"
   ]
  },
  {
   "cell_type": "markdown",
   "id": "southern-closer",
   "metadata": {
    "id": "southern-closer"
   },
   "source": [
    "In subtasks, 1.3.1 - 1.3.3, implement the following greedy feature selection algorithm with early stopping using the mean of the RMSLE scores achieved on the 3-fold cross-validation. Please bear in mind that **the lower** RMSLE (`mean_squared_log_error`) is, **the higher the model \"quality\" is** and look up `cross_val_score(...)` peculiarities in [scikit's manual](https://scikit-learn.org/stable/documentation.html) for more information.\n",
    "\n",
    "```python\n",
    "# Initialize with an empty list of features.\n",
    "list_of_best_features = []\n",
    "\n",
    "while round < n_rounds:\n",
    "    round = round + 1\n",
    "    \n",
    "    if no_more_features:\n",
    "        # end loop\n",
    "\n",
    "    # Iterate over currently *unused* features and use $k$-fold \n",
    "    # . `cross_val_score` to measure model \"quality\".\n",
    "    compute_quality_with_each_new_unused_feature(...)\n",
    "\n",
    "    # **Add** the feature that gives the highest \"quality\" of the model.\n",
    "    pick_and_add_the_best_feature(...)\n",
    "\n",
    "    if model_quality_has_increased_since_last_round:\n",
    "        round = 0\n",
    "\n",
    "return list_of_best_features\n",
    "```"
   ]
  },
  {
   "cell_type": "markdown",
   "id": "suffering-italy",
   "metadata": {
    "id": "suffering-italy"
   },
   "source": [
    "**1.3.1) In the cell below, you have to implement a function that would iterate over a list of features and use $k$-fold `cross_val_score` to measure the model's \"quality\".** "
   ]
  },
  {
   "cell_type": "code",
   "execution_count": 116,
   "id": "caroline-state",
   "metadata": {
    "id": "caroline-state"
   },
   "outputs": [],
   "source": [
    "from sklearn.metrics import make_scorer\n",
    "\n",
    "def selection_step(model, X, y, used_features=(), cv=3):\n",
    "    \"\"\"\n",
    "    Parameters\n",
    "    ==========\n",
    "        X: ndarray - training inputs\n",
    "        y: ndarray - training targets\n",
    "        used_features: - list of features\n",
    "        cv: int - number of folds\n",
    "\n",
    "    Returns\n",
    "    =======\n",
    "        scores - dictionary of scores\n",
    "    \"\"\"\n",
    "    \n",
    "    scores = {}\n",
    "    \n",
    "    ### BEGIN Solution\n",
    "    used_features = list(used_features)\n",
    "    for feature in list(X):\n",
    "        if feature not in used_features:\n",
    "            scoring = make_scorer(mean_squared_log_error, squared=False, greater_is_better=False)\n",
    "            feature_scores = cross_val_score(model, X[used_features + [feature]], y, cv=cv, scoring=scoring)\n",
    "            scores[feature] = np.mean(feature_scores)\n",
    "    \n",
    "    ### END Solution\n",
    "\n",
    "    return scores"
   ]
  },
  {
   "cell_type": "markdown",
   "id": "laughing-patio",
   "metadata": {
    "id": "laughing-patio"
   },
   "source": [
    "**1.3.2) Implement a forward greedy feature selection function (the one described in the pseudocode in subtask 1 above) that would**\n",
    "\n",
    "**- compute the model's \"quality\" over the currently *unused* features**\n",
    "\n",
    "**- find the feature, which has given the best score and add it to the list of the currently *used* features**\n",
    "\n",
    "**- if the model's quality has increased since the last round, add this feature to the list of the best features and  print the best score and the current best features list**\n",
    "\n",
    "**Do not forget to implement the early stopping.**"
   ]
  },
  {
   "cell_type": "code",
   "execution_count": 122,
   "id": "pressed-worse",
   "metadata": {
    "id": "pressed-worse"
   },
   "outputs": [],
   "source": [
    "def forward_steps(X, y, n_rounds, model):\n",
    "    \"\"\"\n",
    "    Parameters\n",
    "    ==========\n",
    "        X: ndarray - training inputs\n",
    "        y: ndarray - training targets\n",
    "        n_rounds: int - early stop when score doesn't increase n_rounds\n",
    "        model: sklearn model\n",
    "\n",
    "    Returns\n",
    "    =======\n",
    "        feat_best_list - list of features\n",
    "    \"\"\"\n",
    "    \n",
    "    feat_best_list = []\n",
    "\n",
    "    ### BEGIN Solution\n",
    "    \n",
    "    used_features = []\n",
    "    last_score = -np.inf\n",
    "    current_round = 0\n",
    "    \n",
    "    while current_round < n_rounds:\n",
    "        current_round += 1\n",
    "        \n",
    "        if len(used_features) == len(X.columns):\n",
    "            break\n",
    "            \n",
    "        scores = selection_step(model, X, y, used_features)\n",
    "        best_feature = max(scores, key=scores.get)\n",
    "        current_score = scores[best_feature]\n",
    "        \n",
    "        used_features.append(best_feature)\n",
    "        \n",
    "        if current_score > last_score:\n",
    "            feat_best_list.append(best_feature)\n",
    "            current_round = 0\n",
    "            last_score = current_score\n",
    "        \n",
    "        print(f'Best current score = {last_score}')\n",
    "        print(f'Feature list = {feat_best_list}')\n",
    "        \n",
    "        \n",
    "    ### END Solution\n",
    "    \n",
    "    return feat_best_list\n"
   ]
  },
  {
   "cell_type": "markdown",
   "id": "geographic-holly",
   "metadata": {
    "id": "geographic-holly"
   },
   "source": [
    "**1.3.3) Use the function implemented above + DecisionTreeRegressor to get the best features according to this algorithm. (HINT: Use ```n_rounds = 2```)**"
   ]
  },
  {
   "cell_type": "code",
   "execution_count": 123,
   "id": "hazardous-retirement",
   "metadata": {
    "colab": {
     "base_uri": "https://localhost:8080/"
    },
    "id": "hazardous-retirement",
    "outputId": "81502f2d-f6fa-4497-d569-58605bfff430"
   },
   "outputs": [
    {
     "name": "stdout",
     "output_type": "stream",
     "text": [
      "Best current score = -0.03256315086603229\n",
      "Feature list = ['full_sq']\n",
      "Best current score = -0.03206317999502718\n",
      "Feature list = ['full_sq', 'cafe_count_5000_price_high']\n",
      "Best current score = -0.031939960916033995\n",
      "Feature list = ['full_sq', 'cafe_count_5000_price_high', 'num_room']\n",
      "Best current score = -0.03183069278522918\n",
      "Feature list = ['full_sq', 'cafe_count_5000_price_high', 'num_room', 'nuclear_reactor_km']\n",
      "Best current score = -0.03057454509953811\n",
      "Feature list = ['full_sq', 'cafe_count_5000_price_high', 'num_room', 'nuclear_reactor_km', 'additional_education_km']\n",
      "Best current score = -0.030156338333904947\n",
      "Feature list = ['full_sq', 'cafe_count_5000_price_high', 'num_room', 'nuclear_reactor_km', 'additional_education_km', 'micex_cbi_tr']\n",
      "Best current score = -0.029919486894608476\n",
      "Feature list = ['full_sq', 'cafe_count_5000_price_high', 'num_room', 'nuclear_reactor_km', 'additional_education_km', 'micex_cbi_tr', 'floor']\n",
      "Best current score = -0.029813450745088777\n",
      "Feature list = ['full_sq', 'cafe_count_5000_price_high', 'num_room', 'nuclear_reactor_km', 'additional_education_km', 'micex_cbi_tr', 'floor', 'metro_km_avto']\n",
      "Best current score = -0.029751786625246284\n",
      "Feature list = ['full_sq', 'cafe_count_5000_price_high', 'num_room', 'nuclear_reactor_km', 'additional_education_km', 'micex_cbi_tr', 'floor', 'metro_km_avto', 'cemetery_km']\n",
      "Best current score = -0.02971877249029385\n",
      "Feature list = ['full_sq', 'cafe_count_5000_price_high', 'num_room', 'nuclear_reactor_km', 'additional_education_km', 'micex_cbi_tr', 'floor', 'metro_km_avto', 'cemetery_km', 'public_healthcare_km']\n",
      "Best current score = -0.029687923175768422\n",
      "Feature list = ['full_sq', 'cafe_count_5000_price_high', 'num_room', 'nuclear_reactor_km', 'additional_education_km', 'micex_cbi_tr', 'floor', 'metro_km_avto', 'cemetery_km', 'public_healthcare_km', 'ttk_km']\n",
      "Best current score = -0.029622815265174764\n",
      "Feature list = ['full_sq', 'cafe_count_5000_price_high', 'num_room', 'nuclear_reactor_km', 'additional_education_km', 'micex_cbi_tr', 'floor', 'metro_km_avto', 'cemetery_km', 'public_healthcare_km', 'ttk_km', 'kindergarten_km']\n",
      "Best current score = -0.029622815265174764\n",
      "Feature list = ['full_sq', 'cafe_count_5000_price_high', 'num_room', 'nuclear_reactor_km', 'additional_education_km', 'micex_cbi_tr', 'floor', 'metro_km_avto', 'cemetery_km', 'public_healthcare_km', 'ttk_km', 'kindergarten_km']\n",
      "Best current score = -0.029622815265174764\n",
      "Feature list = ['full_sq', 'cafe_count_5000_price_high', 'num_room', 'nuclear_reactor_km', 'additional_education_km', 'micex_cbi_tr', 'floor', 'metro_km_avto', 'cemetery_km', 'public_healthcare_km', 'ttk_km', 'kindergarten_km']\n"
     ]
    },
    {
     "data": {
      "text/plain": [
       "['full_sq',\n",
       " 'cafe_count_5000_price_high',\n",
       " 'num_room',\n",
       " 'nuclear_reactor_km',\n",
       " 'additional_education_km',\n",
       " 'micex_cbi_tr',\n",
       " 'floor',\n",
       " 'metro_km_avto',\n",
       " 'cemetery_km',\n",
       " 'public_healthcare_km',\n",
       " 'ttk_km',\n",
       " 'kindergarten_km']"
      ]
     },
     "execution_count": 123,
     "metadata": {},
     "output_type": "execute_result"
    }
   ],
   "source": [
    "### BEGIN Solution\n",
    "best_features = forward_steps(X_train, y_train_log, n_rounds=2, model=rand_forest)\n",
    "best_features\n",
    "### END Solution"
   ]
  },
  {
   "cell_type": "markdown",
   "id": "contrary-packet",
   "metadata": {
    "id": "contrary-packet"
   },
   "source": [
    "**1.3.4) Use Linear Regression, Ridge regression, Random forest and DecisionTree to get the RMSLE scores using these features. Remember the function you wrote earlier.**"
   ]
  },
  {
   "cell_type": "code",
   "execution_count": 125,
   "id": "graduate-tooth",
   "metadata": {
    "colab": {
     "base_uri": "https://localhost:8080/",
     "height": 221
    },
    "id": "graduate-tooth",
    "outputId": "72812408-0c21-4229-ff2d-f29243966f3d"
   },
   "outputs": [
    {
     "data": {
      "text/html": [
       "<div>\n",
       "<style scoped>\n",
       "    .dataframe tbody tr th:only-of-type {\n",
       "        vertical-align: middle;\n",
       "    }\n",
       "\n",
       "    .dataframe tbody tr th {\n",
       "        vertical-align: top;\n",
       "    }\n",
       "\n",
       "    .dataframe thead th {\n",
       "        text-align: right;\n",
       "    }\n",
       "</style>\n",
       "<table border=\"1\" class=\"dataframe\">\n",
       "  <thead>\n",
       "    <tr style=\"text-align: right;\">\n",
       "      <th></th>\n",
       "      <th>model_name</th>\n",
       "      <th>train_error</th>\n",
       "      <th>test_error</th>\n",
       "    </tr>\n",
       "  </thead>\n",
       "  <tbody>\n",
       "    <tr>\n",
       "      <th>0</th>\n",
       "      <td>LinearRegression</td>\n",
       "      <td>0.032722</td>\n",
       "      <td>0.032619</td>\n",
       "    </tr>\n",
       "    <tr>\n",
       "      <th>1</th>\n",
       "      <td>Ridge</td>\n",
       "      <td>0.032722</td>\n",
       "      <td>0.032619</td>\n",
       "    </tr>\n",
       "    <tr>\n",
       "      <th>2</th>\n",
       "      <td>RandomForestRegressor</td>\n",
       "      <td>0.011263</td>\n",
       "      <td>0.029496</td>\n",
       "    </tr>\n",
       "    <tr>\n",
       "      <th>3</th>\n",
       "      <td>DecisionTreeRegressor</td>\n",
       "      <td>0.000087</td>\n",
       "      <td>0.042321</td>\n",
       "    </tr>\n",
       "  </tbody>\n",
       "</table>\n",
       "</div>"
      ],
      "text/plain": [
       "              model_name  train_error  test_error\n",
       "0       LinearRegression     0.032722    0.032619\n",
       "1                  Ridge     0.032722    0.032619\n",
       "2  RandomForestRegressor     0.011263    0.029496\n",
       "3  DecisionTreeRegressor     0.000087    0.042321"
      ]
     },
     "execution_count": 125,
     "metadata": {},
     "output_type": "execute_result"
    }
   ],
   "source": [
    "### BEGIN Solution\n",
    "\n",
    "lin_reg = LinearRegression()\n",
    "ridge_reg = Ridge(random_state=0)\n",
    "rand_forest = RandomForestRegressor(random_state=0)\n",
    "dcsn_tree = DecisionTreeRegressor(random_state=0)\n",
    "\n",
    "models = [lin_reg, ridge_reg, rand_forest, dcsn_tree]\n",
    "X_train, X_test, y_train, y_test = train_test_split(X[best_features], y, test_size=0.3, random_state=0)\n",
    "\n",
    "# print comparison table\n",
    "results = make_comparison(X_train, y_train_log, X_test, y_test_log, models)\n",
    "results\n",
    "\n",
    "### END Solution"
   ]
  },
  {
   "cell_type": "markdown",
   "id": "infinite-navigation",
   "metadata": {
    "id": "infinite-navigation"
   },
   "source": [
    "<br>"
   ]
  },
  {
   "cell_type": "markdown",
   "id": "individual-rendering",
   "metadata": {
    "id": "individual-rendering"
   },
   "source": [
    "## Task 2. Multi-Class Classification Strategies (1 point)\n",
    "In this task, you will deal with the multiclass classification problem for the Glass Classification Data. Let's load the dataset."
   ]
  },
  {
   "cell_type": "code",
   "execution_count": 6,
   "id": "technical-trader",
   "metadata": {
    "colab": {
     "base_uri": "https://localhost:8080/",
     "height": 142
    },
    "id": "technical-trader",
    "outputId": "91043ffe-6127-441b-a6ae-58f111768d40"
   },
   "outputs": [
    {
     "data": {
      "text/html": [
       "<div>\n",
       "<style scoped>\n",
       "    .dataframe tbody tr th:only-of-type {\n",
       "        vertical-align: middle;\n",
       "    }\n",
       "\n",
       "    .dataframe tbody tr th {\n",
       "        vertical-align: top;\n",
       "    }\n",
       "\n",
       "    .dataframe thead th {\n",
       "        text-align: right;\n",
       "    }\n",
       "</style>\n",
       "<table border=\"1\" class=\"dataframe\">\n",
       "  <thead>\n",
       "    <tr style=\"text-align: right;\">\n",
       "      <th></th>\n",
       "      <th>RI</th>\n",
       "      <th>Na</th>\n",
       "      <th>Mg</th>\n",
       "      <th>Al</th>\n",
       "      <th>Si</th>\n",
       "      <th>K</th>\n",
       "      <th>Ca</th>\n",
       "      <th>Ba</th>\n",
       "      <th>Fe</th>\n",
       "      <th>Type</th>\n",
       "    </tr>\n",
       "  </thead>\n",
       "  <tbody>\n",
       "    <tr>\n",
       "      <th>39</th>\n",
       "      <td>1.52213</td>\n",
       "      <td>14.21</td>\n",
       "      <td>3.82</td>\n",
       "      <td>0.47</td>\n",
       "      <td>71.77</td>\n",
       "      <td>0.11</td>\n",
       "      <td>9.57</td>\n",
       "      <td>0.0</td>\n",
       "      <td>0.00</td>\n",
       "      <td>1</td>\n",
       "    </tr>\n",
       "    <tr>\n",
       "      <th>5</th>\n",
       "      <td>1.51596</td>\n",
       "      <td>12.79</td>\n",
       "      <td>3.61</td>\n",
       "      <td>1.62</td>\n",
       "      <td>72.97</td>\n",
       "      <td>0.64</td>\n",
       "      <td>8.07</td>\n",
       "      <td>0.0</td>\n",
       "      <td>0.26</td>\n",
       "      <td>1</td>\n",
       "    </tr>\n",
       "    <tr>\n",
       "      <th>41</th>\n",
       "      <td>1.51755</td>\n",
       "      <td>12.71</td>\n",
       "      <td>3.42</td>\n",
       "      <td>1.20</td>\n",
       "      <td>73.20</td>\n",
       "      <td>0.59</td>\n",
       "      <td>8.64</td>\n",
       "      <td>0.0</td>\n",
       "      <td>0.00</td>\n",
       "      <td>1</td>\n",
       "    </tr>\n",
       "  </tbody>\n",
       "</table>\n",
       "</div>"
      ],
      "text/plain": [
       "         RI     Na    Mg    Al     Si     K    Ca   Ba    Fe  Type\n",
       "39  1.52213  14.21  3.82  0.47  71.77  0.11  9.57  0.0  0.00     1\n",
       "5   1.51596  12.79  3.61  1.62  72.97  0.64  8.07  0.0  0.26     1\n",
       "41  1.51755  12.71  3.42  1.20  73.20  0.59  8.64  0.0  0.00     1"
      ]
     },
     "execution_count": 6,
     "metadata": {},
     "output_type": "execute_result"
    }
   ],
   "source": [
    "data = pd.read_csv('glass.csv')\n",
    "X, y = data.drop('Type', axis=1), data.Type\n",
    "data.sample(3)"
   ]
  },
  {
   "cell_type": "markdown",
   "id": "flying-region",
   "metadata": {
    "id": "flying-region"
   },
   "source": [
    "The features of each glass object correspond to the fraction of the particular chemical element in the object. The target variable corresponds to the type of glass (6 classes).\n",
    "\n",
    "In this problem, you have to empirically compare the time complexity and performance of several multiclass labeling strategies for different algorithms. You must consider the following algorithms:\n",
    "* Single Decision Tree (depth 7)\n",
    "* Medium Random Forest (100 trees of depth 3)\n",
    "* KNearestNeighbors (5 neighbors)\n",
    "* Logistic Regression\n",
    "\n",
    "Note that all these algorithms by default support **multiclass labeling**. Nevertheless, we want you to compare this approach with **OneVSRest** and **OneVSOne** approaches applied to these algorithms. More precisely, for every pair (algorithm, approach) you are to perform a 5-fold cross-validation on the data and output the validation score and the computation time in the **table** form. Please note that you also have to choose the metric to optimize during CV (e.g. accuracy, balanced accuracy) on your own. \n",
    "\n",
    "After that, you are to answer the following questions:\n",
    "* Which metric did you choose to optimize during cross-validation and why? Explain\n",
    "* For which algorithms the usage of OneVSRest/OneVSOne approach provides significantly better performance without a significant increase in computation time?"
   ]
  },
  {
   "cell_type": "code",
   "execution_count": 7,
   "id": "authentic-slope",
   "metadata": {
    "colab": {
     "base_uri": "https://localhost:8080/",
     "height": 301
    },
    "id": "authentic-slope",
    "outputId": "5421c6dc-461c-4d7e-c472-aaf96785958a",
    "scrolled": false
   },
   "outputs": [
    {
     "data": {
      "text/html": [
       "<div>\n",
       "<style scoped>\n",
       "    .dataframe tbody tr th:only-of-type {\n",
       "        vertical-align: middle;\n",
       "    }\n",
       "\n",
       "    .dataframe tbody tr th {\n",
       "        vertical-align: top;\n",
       "    }\n",
       "\n",
       "    .dataframe thead th {\n",
       "        text-align: right;\n",
       "    }\n",
       "</style>\n",
       "<table border=\"1\" class=\"dataframe\">\n",
       "  <thead>\n",
       "    <tr style=\"text-align: right;\">\n",
       "      <th></th>\n",
       "      <th>model_name</th>\n",
       "      <th>multiclass_score</th>\n",
       "      <th>multiclass_time</th>\n",
       "      <th>ovr_score</th>\n",
       "      <th>ovr_time</th>\n",
       "      <th>ovo_score</th>\n",
       "      <th>ovo_time</th>\n",
       "    </tr>\n",
       "  </thead>\n",
       "  <tbody>\n",
       "    <tr>\n",
       "      <th>0</th>\n",
       "      <td>DecisionTreeClassifier</td>\n",
       "      <td>0.530198</td>\n",
       "      <td>0.017970</td>\n",
       "      <td>0.589921</td>\n",
       "      <td>0.086024</td>\n",
       "      <td>0.659544</td>\n",
       "      <td>0.082702</td>\n",
       "    </tr>\n",
       "    <tr>\n",
       "      <th>1</th>\n",
       "      <td>RandomForestClassifier</td>\n",
       "      <td>0.434583</td>\n",
       "      <td>0.472262</td>\n",
       "      <td>0.536032</td>\n",
       "      <td>2.984653</td>\n",
       "      <td>0.600635</td>\n",
       "      <td>7.270897</td>\n",
       "    </tr>\n",
       "    <tr>\n",
       "      <th>2</th>\n",
       "      <td>KNeighborsClassifier</td>\n",
       "      <td>0.551071</td>\n",
       "      <td>0.019207</td>\n",
       "      <td>0.575159</td>\n",
       "      <td>0.071585</td>\n",
       "      <td>0.554921</td>\n",
       "      <td>0.166373</td>\n",
       "    </tr>\n",
       "    <tr>\n",
       "      <th>3</th>\n",
       "      <td>LogisticRegression</td>\n",
       "      <td>0.445040</td>\n",
       "      <td>0.109374</td>\n",
       "      <td>0.385298</td>\n",
       "      <td>0.417892</td>\n",
       "      <td>0.439603</td>\n",
       "      <td>0.962675</td>\n",
       "    </tr>\n",
       "  </tbody>\n",
       "</table>\n",
       "</div>"
      ],
      "text/plain": [
       "               model_name  multiclass_score  multiclass_time  ovr_score  \\\n",
       "0  DecisionTreeClassifier          0.530198         0.017970   0.589921   \n",
       "1  RandomForestClassifier          0.434583         0.472262   0.536032   \n",
       "2    KNeighborsClassifier          0.551071         0.019207   0.575159   \n",
       "3      LogisticRegression          0.445040         0.109374   0.385298   \n",
       "\n",
       "   ovr_time  ovo_score  ovo_time  \n",
       "0  0.086024   0.659544  0.082702  \n",
       "1  2.984653   0.600635  7.270897  \n",
       "2  0.071585   0.554921  0.166373  \n",
       "3  0.417892   0.439603  0.962675  "
      ]
     },
     "execution_count": 7,
     "metadata": {},
     "output_type": "execute_result"
    }
   ],
   "source": [
    "### BEGIN Solution (do not delete this comment)\n",
    "\n",
    "from sklearn.tree import DecisionTreeClassifier\n",
    "from sklearn.ensemble import RandomForestClassifier\n",
    "from sklearn.neighbors import KNeighborsClassifier\n",
    "from sklearn.linear_model import LogisticRegression\n",
    "from sklearn.base import clone\n",
    "\n",
    "from sklearn.multiclass import OneVsRestClassifier\n",
    "from sklearn.multiclass import OneVsOneClassifier\n",
    "\n",
    "from sklearn.metrics import roc_auc_score\n",
    "from datetime import datetime\n",
    "\n",
    "import time\n",
    "\n",
    "dcsn_tree = DecisionTreeClassifier(max_depth=7, random_state=0)\n",
    "rand_forest = RandomForestClassifier(n_estimators=100, max_depth=3, random_state=0)\n",
    "knn = KNeighborsClassifier(n_neighbors=5)\n",
    "log_reg = LogisticRegression()\n",
    "\n",
    "\n",
    "models = [dcsn_tree, rand_forest, knn, log_reg]\n",
    "\n",
    "table = []\n",
    "\n",
    "for model in models:\n",
    "    \n",
    "    model_name = type(model).__name__\n",
    "    \n",
    "    # Multiclass\n",
    "    multiclass_start = time.perf_counter()\n",
    "    multiclass_score = np.mean(cross_val_score(model, X, y, cv=5, scoring='balanced_accuracy'))\n",
    "    multiclass_time = time.perf_counter() - multiclass_start\n",
    "    \n",
    "    # One-VS-Rest\n",
    "    ovr_start = time.perf_counter()\n",
    "    ovr_classifier = OneVsRestClassifier(clone(model))\n",
    "    ovr_score = np.mean(cross_val_score(ovr_classifier, X, y, cv=5, scoring='balanced_accuracy'))\n",
    "    ovr_time = time.perf_counter() - ovr_start\n",
    "    \n",
    "    # One-VS-One\n",
    "    ovo_start = time.perf_counter()\n",
    "    ovo_classifier = OneVsOneClassifier(clone(model))\n",
    "    ovo_score = np.mean(cross_val_score(ovo_classifier, X, y, cv=5, scoring='balanced_accuracy'))\n",
    "    ovo_time = time.perf_counter() - ovo_start\n",
    "    \n",
    "    \n",
    "    table.append([model_name, multiclass_score, multiclass_time, ovr_score, ovr_time, ovo_score, ovo_time])\n",
    "        \n",
    "df_table = pd.DataFrame(table, columns=['model_name', \n",
    "                                        'multiclass_score', 'multiclass_time', \n",
    "                                        'ovr_score', 'ovr_time', \n",
    "                                        'ovo_score', 'ovo_time'])\n",
    "df_table \n",
    "\n",
    "\n",
    "### END Solution (do not delete this comment)"
   ]
  },
  {
   "cell_type": "markdown",
   "id": "married-preserve",
   "metadata": {
    "id": "married-preserve"
   },
   "source": [
    "**Which metric did you choose to optimize during cross validation and why? Explain**"
   ]
  },
  {
   "cell_type": "markdown",
   "id": "dutch-alfred",
   "metadata": {
    "id": "dutch-alfred"
   },
   "source": [
    "**Your text answer (do not delete this comment)**:\n",
    "\n",
    "I decided to choose `balanced_accuracy`. The reason for that is that in this dataset we have imbalanced target class. For example, we have 70 samples of the 1st class and only 9 samples of 7th class. So, we need to use such metric which is taking this fact into account. "
   ]
  },
  {
   "cell_type": "markdown",
   "id": "elect-jerusalem",
   "metadata": {
    "id": "elect-jerusalem"
   },
   "source": [
    "**For which algorithms the usage of OneVSRest/OneVSOne approach provides significantly better performance without a significant increase in computation time?**"
   ]
  },
  {
   "cell_type": "markdown",
   "id": "CH04Ord57RS4",
   "metadata": {
    "id": "CH04Ord57RS4"
   },
   "source": [
    "**Your text answer (do not delete this comment)**:\n",
    "\n",
    "From the table above we can see that for DecisionTreeClassifier usage of both OVO and OVR approches provides better results: up to `25%` better score. Moreover, at the same time, there is no a significant increase in computation time: `91ms` compare to `25ms`."
   ]
  },
  {
   "cell_type": "markdown",
   "id": "electric-matthew",
   "metadata": {
    "id": "electric-matthew"
   },
   "source": [
    "# Task 3. Stacking (2 points)"
   ]
  },
  {
   "cell_type": "markdown",
   "id": "third-liverpool",
   "metadata": {
    "id": "third-liverpool"
   },
   "source": [
    "Stacking is an ensembling approach, which combines several algorithms (base models) to get better results. This is achieved by **a)** training the base models (any ML models) on the initial train data (or parts of the train data, see the paragraph below), **b)** training the meta-model (also an ML model) on the predictions of those base models.\n",
    "\n",
    "One of the main problems of stacking is overfitting. To avoid it, when evaluating the performance of the meta-model on the train set, the training data is divided into $ n $ folds, $ (n-1) $ of which are used for training the base models. The $ n $ -th fold is used for the overall prediction (calculating the meta-factor) in the following manner: the predictions on the $ n $ -th fold are made by the base models (already trained on the rest of the dataset), then these predictions on the $ n $ -th fold are fed as inputs to the meta-model.\n",
    "\n",
    "When evaluating the performance of the meta-model on the test set, there can be used various approaches$.^{[1]}$ For example, in order, to obtain meta-factors for the test data, the base classifiers can be retrained on the entire training set, since the problem of overfitting does not arise here. In other words, if we want to calculate the factors for the test set, we can safely use the training set to train the base classifiers (once again, as it is said in the paragraph above, if we want to calculate factors for the training set, then it is necessary to ensure that the classifier does not predict for those objects on which it has been trained).  \n",
    "\n",
    "You can read more details about stacking [blockpost](https://blog.statsbot.co/ensemble-learning-d1dcd548e936), [kaggle ensemble guide](https://mlwave.com/kaggle-ensembling-guide/).\n",
    "\n",
    "P.S. Stacking and Blending are two similar approaches to combining classifiers (ensembling). The difference is that Stacking uses out-of-fold predictions for the train set, and Blending uses a validation set to train the next layer ([source](quora.com/What-are-examples-of-blending-and-stacking-in-Machine-Learning)). Because they are so similar you can use any of them. \n",
    "\n",
    "[1] http://www.machinelearning.ru/wiki/images/5/56/Guschin2015Stacking.pdf  "
   ]
  },
  {
   "cell_type": "markdown",
   "id": "recognized-guest",
   "metadata": {
    "id": "recognized-guest"
   },
   "source": [
    "**Your task will be:**\n",
    "\n",
    "* Complete the ```meta_classfier``` function\n",
    "* Choose 6 different base models (base models can be any models that you know, and can differ between each other by different hyperparameters, models of ml, features e.t.c) and train them.\n",
    "* Report individual accuracy on the test set for each of the models.\n",
    "* Train the metaclassifier (in this case, once again, it is just an ML model) on the original dataset's features, report score on test.\n",
    "* Train the metaclassifier on the base models using $n$-fold cross-validation, as described above. Report the training score of the meta-classifier on the $ n $-th fold. Retrain the base models on the whole training set. Report the test score (accuracy) of the meta-classifier in this case.\n",
    "* Does stacking help to gain a better score?"
   ]
  },
  {
   "cell_type": "markdown",
   "id": "incident-ceremony",
   "metadata": {
    "id": "incident-ceremony"
   },
   "source": [
    "For this task we will use the dataset fetch_covertype from [sklearn](https://scikit-learn.org/stable/modules/generated/sklearn.datasets.fetch_covtype.html#sklearn.datasets.fetch_covtype). Split it train-test - 60/40.\n",
    "More details about this dataset you can find [here](https://archive.ics.uci.edu/ml/datasets/Covertype)"
   ]
  },
  {
   "cell_type": "code",
   "execution_count": 8,
   "id": "banner-input",
   "metadata": {
    "id": "banner-input"
   },
   "outputs": [],
   "source": [
    "from sklearn import datasets\n",
    "fc = sklearn.datasets.fetch_covtype()"
   ]
  },
  {
   "cell_type": "markdown",
   "id": "collected-flash",
   "metadata": {
    "id": "collected-flash"
   },
   "source": [
    "Write meta classifier function."
   ]
  },
  {
   "cell_type": "code",
   "execution_count": 106,
   "id": "brilliant-greensboro",
   "metadata": {
    "id": "brilliant-greensboro"
   },
   "outputs": [],
   "source": [
    "def meta_classifier(base_clfs, final_classifier, X_train, X_test, y_train, cv):\n",
    "    \"\"\"\n",
    "    Meta classifier prediction using stacking. \n",
    "    Input:\n",
    "    :param base_clfs: list,  base classifiers which will be stacked together.\n",
    "    :param final_classifier: estimator, a classifier which will be used to combine the base estimators. \n",
    "    :param X_train: numpy array or pandas table, train set.\n",
    "    :param X_test: numpy array or pandas table, target for train set.\n",
    "    :param X_train: numpy array or pandas table, test set.\n",
    "    :param cv: number of cross-validation folds.\n",
    "    \n",
    "    Output:\n",
    "    :param y_pred: numpy array or pandas table, prediction of meta classifier using stacking on test set.\n",
    "    :param final_classifier(optional): estimator, trained final_calssifier.\n",
    "    \n",
    "    \n",
    "    More details https://scikit-learn.org/stable/modules/generated/sklearn.ensemble.StackingClassifier.html\n",
    "    \n",
    "    \"\"\"\n",
    "    ### BEGIN Solution (do not delete this comment)\n",
    "    \n",
    "    \n",
    "    iter_clf = iter(base_clfs)\n",
    "    clf = next(iter_clf)\n",
    "    X_train_meta = cross_val_predict(clf, X_train, y_train, cv=cv, method='predict_proba')\n",
    "    for clf in iter_clf:\n",
    "        pred = cross_val_predict(clf, X_train, y_train, cv=cv, method='predict_proba')\n",
    "        X_train_meta = np.hstack((X_train_meta, pred))\n",
    "        \n",
    "    print('X_train_meta.shape =', X_train_meta.shape)\n",
    "    final_classifier.fit(X_train_meta, y_train)\n",
    "    \n",
    "    iter_clf = iter(base_clfs)\n",
    "    clf = next(iter_clf)\n",
    "    X_test_meta = clf.fit(X_train, y_train).predict_proba(X_test)\n",
    "    for clf in iter_clf:\n",
    "        pred = clf.fit(X_train, y_train).predict_proba(X_test)\n",
    "        X_test_meta = np.hstack((X_test_meta, pred))\n",
    "    \n",
    "    print('X_test_meta.shape =', X_test_meta.shape)\n",
    "    y_pred = final_classifier.predict(X_test_meta)\n",
    "    \n",
    "    return y_pred, final_classifier\n",
    "    \n",
    "    ### END Solution (do not delete this comment)\n",
    "    pass"
   ]
  },
  {
   "cell_type": "markdown",
   "id": "vfZmdicwORxq",
   "metadata": {
    "id": "vfZmdicwORxq"
   },
   "source": [
    "### Subproblem 3.1 (1 point)"
   ]
  },
  {
   "cell_type": "markdown",
   "id": "incredible-wichita",
   "metadata": {
    "id": "incredible-wichita"
   },
   "source": [
    "**3.1.1) Chose 6 different base models (base models can be any models that you know,and can differ with each other by different hyperparameters,  models of ml, features e.t.c) and train them.**"
   ]
  },
  {
   "cell_type": "code",
   "execution_count": 113,
   "id": "cleared-supply",
   "metadata": {
    "colab": {
     "base_uri": "https://localhost:8080/"
    },
    "id": "cleared-supply",
    "outputId": "6c3af77e-4cc3-41cf-85e1-c179b6332f02"
   },
   "outputs": [
    {
     "name": "stderr",
     "output_type": "stream",
     "text": [
      " 67%|██████████████████████████████               | 4/6 [00:36<00:19,  9.99s/it]"
     ]
    },
    {
     "name": "stdout",
     "output_type": "stream",
     "text": [
      "[14:16:45] WARNING: /Users/runner/work/xgboost/xgboost/src/learner.cc:1115: Starting in XGBoost 1.3.0, the default evaluation metric used with the objective 'multi:softprob' was changed from 'merror' to 'mlogloss'. Explicitly set eval_metric if you'd like to restore the old behavior.\n"
     ]
    },
    {
     "name": "stderr",
     "output_type": "stream",
     "text": [
      "100%|█████████████████████████████████████████████| 6/6 [02:54<00:00, 29.13s/it]\n"
     ]
    }
   ],
   "source": [
    "### BEGIN Solution (do not delete this comment)\n",
    "\n",
    "from tqdm import tqdm\n",
    "from sklearn.naive_bayes import GaussianNB\n",
    "from sklearn.neural_network import MLPClassifier\n",
    "from sklearn.ensemble import AdaBoostClassifier\n",
    "from xgboost import XGBClassifier\n",
    "from sklearn.model_selection import cross_val_predict\n",
    "\n",
    "\n",
    "dcsn_tree = DecisionTreeClassifier(max_depth=7, random_state=0)\n",
    "rand_forest = RandomForestClassifier(n_estimators=100, max_depth=3, random_state=0)\n",
    "nb = GaussianNB()\n",
    "log_reg = LogisticRegression()\n",
    "xgb = XGBClassifier(random_state=0)\n",
    "ada_boost = AdaBoostClassifier()\n",
    "\n",
    "models = [dcsn_tree, rand_forest, nb, log_reg, xgb, ada_boost]\n",
    "\n",
    "X_train, X_test, y_train, y_test = train_test_split(fc['data'], fc['target'], test_size=0.4, random_state=0)\n",
    "\n",
    "\n",
    "for model in tqdm(models):\n",
    "    model.fit(X_train, y_train)\n",
    "\n",
    "### END Solution (do not delete this comment)"
   ]
  },
  {
   "cell_type": "markdown",
   "id": "streaming-crowd",
   "metadata": {
    "id": "streaming-crowd"
   },
   "source": [
    "**3.1.2) Report individual scores on test set. As a score use accuracy.**"
   ]
  },
  {
   "cell_type": "code",
   "execution_count": 115,
   "id": "standing-breakdown",
   "metadata": {
    "colab": {
     "base_uri": "https://localhost:8080/"
    },
    "id": "standing-breakdown",
    "outputId": "34a2ebd2-6a1c-40c4-afec-d5cab639cd46"
   },
   "outputs": [
    {
     "name": "stderr",
     "output_type": "stream",
     "text": [
      "\r",
      "  0%|                                                     | 0/6 [00:00<?, ?it/s]"
     ]
    },
    {
     "name": "stdout",
     "output_type": "stream",
     "text": [
      "DecisionTreeClassifier test score = 0.7283535207934425\n"
     ]
    },
    {
     "name": "stderr",
     "output_type": "stream",
     "text": [
      "\r",
      " 33%|███████████████                              | 2/6 [00:01<00:03,  1.08it/s]"
     ]
    },
    {
     "name": "stdout",
     "output_type": "stream",
     "text": [
      "RandomForestClassifier test score = 0.661083023170758\n"
     ]
    },
    {
     "name": "stderr",
     "output_type": "stream",
     "text": [
      "\r",
      " 50%|██████████████████████▌                      | 3/6 [00:02<00:02,  1.25it/s]"
     ]
    },
    {
     "name": "stdout",
     "output_type": "stream",
     "text": [
      "GaussianNB test score = 0.45897893763042963\n",
      "LogisticRegression test score = 0.618007357845141\n"
     ]
    },
    {
     "name": "stderr",
     "output_type": "stream",
     "text": [
      "\r",
      " 83%|█████████████████████████████████████▌       | 5/6 [00:02<00:00,  2.07it/s]"
     ]
    },
    {
     "name": "stdout",
     "output_type": "stream",
     "text": [
      "XGBClassifier test score = 0.8673737656246638\n"
     ]
    },
    {
     "name": "stderr",
     "output_type": "stream",
     "text": [
      "100%|█████████████████████████████████████████████| 6/6 [00:06<00:00,  1.02s/it]"
     ]
    },
    {
     "name": "stdout",
     "output_type": "stream",
     "text": [
      "AdaBoostClassifier test score = 0.5309911576773305\n"
     ]
    },
    {
     "name": "stderr",
     "output_type": "stream",
     "text": [
      "\n"
     ]
    }
   ],
   "source": [
    "### BEGIN Solution (do not delete this comment)\n",
    "\n",
    "for model in tqdm(models):\n",
    "    print(f'{type(model).__name__} test score = {model.score(X_test, y_test)}')\n",
    "\n",
    "### END Solution (do not delete this comment)"
   ]
  },
  {
   "cell_type": "markdown",
   "id": "8CsZdyGPOj6E",
   "metadata": {
    "id": "8CsZdyGPOj6E"
   },
   "source": [
    "### Subproblem 3.2 (1 point)"
   ]
  },
  {
   "cell_type": "markdown",
   "id": "adolescent-street",
   "metadata": {
    "id": "adolescent-street"
   },
   "source": [
    "**3.2.1) Train metaclassifier (in this case, once again, it is just an ML model) on original dataset's features. And report score on test.**"
   ]
  },
  {
   "cell_type": "code",
   "execution_count": 116,
   "id": "lesbian-fields",
   "metadata": {
    "id": "lesbian-fields"
   },
   "outputs": [
    {
     "name": "stdout",
     "output_type": "stream",
     "text": [
      "mlp_score = 0.6104257653664938\n"
     ]
    }
   ],
   "source": [
    "### BEGIN Solution (do not delete this comment)\n",
    "\n",
    "mlp = MLPClassifier(random_state=0, max_iter=50)\n",
    "mlp.fit(X_train, y_train)\n",
    "mlp_score = mlp.score(X_test, y_test)\n",
    "print('mlp_score =', mlp_score) # 0.61\n",
    "\n",
    "### END Solution (do not delete this comment)"
   ]
  },
  {
   "cell_type": "markdown",
   "id": "horizontal-wallace",
   "metadata": {
    "id": "horizontal-wallace"
   },
   "source": [
    "**3.2.2) Train the metaclassifier on the base models using $n$-fold cross-validation, as described above. Report the training score of the meta-classifier on the $ n $-th fold. Retrain the base models on the whole training set. Report the test score (accuracy) of the meta-classifier in this case.**"
   ]
  },
  {
   "cell_type": "code",
   "execution_count": 117,
   "id": "ecc72390",
   "metadata": {
    "scrolled": false
   },
   "outputs": [
    {
     "name": "stdout",
     "output_type": "stream",
     "text": [
      "[14:29:06] WARNING: /Users/runner/work/xgboost/xgboost/src/learner.cc:1115: Starting in XGBoost 1.3.0, the default evaluation metric used with the objective 'multi:softprob' was changed from 'merror' to 'mlogloss'. Explicitly set eval_metric if you'd like to restore the old behavior.\n",
      "[14:30:34] WARNING: /Users/runner/work/xgboost/xgboost/src/learner.cc:1115: Starting in XGBoost 1.3.0, the default evaluation metric used with the objective 'multi:softprob' was changed from 'merror' to 'mlogloss'. Explicitly set eval_metric if you'd like to restore the old behavior.\n",
      "[14:32:08] WARNING: /Users/runner/work/xgboost/xgboost/src/learner.cc:1115: Starting in XGBoost 1.3.0, the default evaluation metric used with the objective 'multi:softprob' was changed from 'merror' to 'mlogloss'. Explicitly set eval_metric if you'd like to restore the old behavior.\n",
      "[14:33:44] WARNING: /Users/runner/work/xgboost/xgboost/src/learner.cc:1115: Starting in XGBoost 1.3.0, the default evaluation metric used with the objective 'multi:softprob' was changed from 'merror' to 'mlogloss'. Explicitly set eval_metric if you'd like to restore the old behavior.\n",
      "[14:35:24] WARNING: /Users/runner/work/xgboost/xgboost/src/learner.cc:1115: Starting in XGBoost 1.3.0, the default evaluation metric used with the objective 'multi:softprob' was changed from 'merror' to 'mlogloss'. Explicitly set eval_metric if you'd like to restore the old behavior.\n",
      "X_train_meta.shape = (348607, 42)\n",
      "[14:41:10] WARNING: /Users/runner/work/xgboost/xgboost/src/learner.cc:1115: Starting in XGBoost 1.3.0, the default evaluation metric used with the objective 'multi:softprob' was changed from 'merror' to 'mlogloss'. Explicitly set eval_metric if you'd like to restore the old behavior.\n",
      "X_test_meta.shape = (232405, 42)\n",
      "Test score of the meta-classifier = 0.8770551408102235\n"
     ]
    }
   ],
   "source": [
    "### BEGIN Solution (do not delete this comment)\n",
    "\n",
    "mlp = MLPClassifier(random_state=0, max_iter=50)\n",
    "y_pred, final_classifier = meta_classifier(models, mlp, X_train, X_test, y_train, cv=5)\n",
    "print('Test score of the meta-classifier =', np.sum(y_pred == y_test) / len(y_pred))\n",
    "\n",
    "\n",
    "### END Solution (do not delete this comment)"
   ]
  },
  {
   "cell_type": "markdown",
   "id": "printable-premium",
   "metadata": {
    "id": "printable-premium"
   },
   "source": [
    "**3.2.3) Report score(accuracy) on test.**"
   ]
  },
  {
   "cell_type": "code",
   "execution_count": 118,
   "id": "auburn-easter",
   "metadata": {
    "id": "auburn-easter"
   },
   "outputs": [
    {
     "name": "stdout",
     "output_type": "stream",
     "text": [
      "Test score of the meta-classifier = 0.8770551408102235\n"
     ]
    }
   ],
   "source": [
    "### BEGIN Solution (do not delete this comment)\n",
    "print('Test score of the meta-classifier =', np.sum(y_pred == y_test) / len(y_pred))\n",
    "### END Solution (do not delete this comment)"
   ]
  },
  {
   "cell_type": "markdown",
   "id": "premier-scout",
   "metadata": {
    "id": "premier-scout"
   },
   "source": [
    "**3.2.4) Does stacking helped to gain a better score?**"
   ]
  },
  {
   "cell_type": "markdown",
   "id": "vSV5hJFR7RS-",
   "metadata": {
    "id": "vSV5hJFR7RS-"
   },
   "source": [
    "**Your text answer (do not delete this comment)**:\n",
    "\n",
    "From the cells above we can see that score of MLP model without stacking is `accuracy=0.61`. And if we stacked base models and then use meta model to make predictions we get an `accuracy=0.88`, that's much better then the initial one! So, this approach is quite good."
   ]
  },
  {
   "cell_type": "code",
   "execution_count": null,
   "id": "48b50c8f",
   "metadata": {},
   "outputs": [],
   "source": []
  }
 ],
 "metadata": {
  "colab": {
   "name": "ML_HW_2.ipynb",
   "provenance": []
  },
  "kernelspec": {
   "display_name": "Python 3 (ipykernel)",
   "language": "python",
   "name": "python3"
  },
  "language_info": {
   "codemirror_mode": {
    "name": "ipython",
    "version": 3
   },
   "file_extension": ".py",
   "mimetype": "text/x-python",
   "name": "python",
   "nbconvert_exporter": "python",
   "pygments_lexer": "ipython3",
   "version": "3.9.7"
  }
 },
 "nbformat": 4,
 "nbformat_minor": 5
}
